{
 "cells": [
  {
   "cell_type": "markdown",
   "metadata": {},
   "source": [
    "# Wind impact on the Uiramatã-Chuí bike route"
   ]
  },
  {
   "cell_type": "code",
   "execution_count": 3,
   "metadata": {},
   "outputs": [
    {
     "name": "stdout",
     "output_type": "stream",
     "text": [
      "The autotime extension is already loaded. To reload it, use:\n",
      "  %reload_ext autotime\n",
      "time: 2.88 ms\n"
     ]
    }
   ],
   "source": [
    "%load_ext autotime"
   ]
  },
  {
   "cell_type": "code",
   "execution_count": 4,
   "metadata": {},
   "outputs": [
    {
     "name": "stdout",
     "output_type": "stream",
     "text": [
      "time: 1.31 ms\n"
     ]
    }
   ],
   "source": [
    "import numpy as np\n",
    "import xarray as xr"
   ]
  },
  {
   "cell_type": "code",
   "execution_count": 9,
   "metadata": {},
   "outputs": [
    {
     "name": "stdout",
     "output_type": "stream",
     "text": [
      "time: 1.74 ms\n"
     ]
    }
   ],
   "source": [
    "GPX_PATH = '../data/uiramata_chui.gpx'\n",
    "NC_PATH = '../data/data.nc'"
   ]
  },
  {
   "cell_type": "code",
   "execution_count": 10,
   "metadata": {},
   "outputs": [
    {
     "name": "stdout",
     "output_type": "stream",
     "text": [
      "time: 13 s\n"
     ]
    }
   ],
   "source": [
    "raw_ds = xr.load_dataset(NC_PATH)"
   ]
  },
  {
   "cell_type": "code",
   "execution_count": 12,
   "metadata": {},
   "outputs": [
    {
     "name": "stderr",
     "output_type": "stream",
     "text": [
      "/home/danlessa/.anaconda3/lib/python3.7/site-packages/xarray/core/nanops.py:142: RuntimeWarning: Mean of empty slice\n",
      "  return np.nanmean(a, axis=axis, dtype=dtype)\n"
     ]
    },
    {
     "name": "stdout",
     "output_type": "stream",
     "text": [
      "time: 853 ms\n"
     ]
    }
   ],
   "source": [
    "g_data = raw_ds.isel(step=0).groupby(raw_ds.time.dt.hour)\n",
    "\n",
    "m_data = g_data.mean()\n",
    "s_data = g_data.std()"
   ]
  },
  {
   "cell_type": "code",
   "execution_count": 53,
   "metadata": {},
   "outputs": [
    {
     "data": {
      "text/html": [
       "<div><svg style=\"position: absolute; width: 0; height: 0; overflow: hidden\">\n",
       "<defs>\n",
       "<symbol id=\"icon-database\" viewBox=\"0 0 32 32\">\n",
       "<path d=\"M16 0c-8.837 0-16 2.239-16 5v4c0 2.761 7.163 5 16 5s16-2.239 16-5v-4c0-2.761-7.163-5-16-5z\"></path>\n",
       "<path d=\"M16 17c-8.837 0-16-2.239-16-5v6c0 2.761 7.163 5 16 5s16-2.239 16-5v-6c0 2.761-7.163 5-16 5z\"></path>\n",
       "<path d=\"M16 26c-8.837 0-16-2.239-16-5v6c0 2.761 7.163 5 16 5s16-2.239 16-5v-6c0 2.761-7.163 5-16 5z\"></path>\n",
       "</symbol>\n",
       "<symbol id=\"icon-file-text2\" viewBox=\"0 0 32 32\">\n",
       "<path d=\"M28.681 7.159c-0.694-0.947-1.662-2.053-2.724-3.116s-2.169-2.030-3.116-2.724c-1.612-1.182-2.393-1.319-2.841-1.319h-15.5c-1.378 0-2.5 1.121-2.5 2.5v27c0 1.378 1.122 2.5 2.5 2.5h23c1.378 0 2.5-1.122 2.5-2.5v-19.5c0-0.448-0.137-1.23-1.319-2.841zM24.543 5.457c0.959 0.959 1.712 1.825 2.268 2.543h-4.811v-4.811c0.718 0.556 1.584 1.309 2.543 2.268zM28 29.5c0 0.271-0.229 0.5-0.5 0.5h-23c-0.271 0-0.5-0.229-0.5-0.5v-27c0-0.271 0.229-0.5 0.5-0.5 0 0 15.499-0 15.5 0v7c0 0.552 0.448 1 1 1h7v19.5z\"></path>\n",
       "<path d=\"M23 26h-14c-0.552 0-1-0.448-1-1s0.448-1 1-1h14c0.552 0 1 0.448 1 1s-0.448 1-1 1z\"></path>\n",
       "<path d=\"M23 22h-14c-0.552 0-1-0.448-1-1s0.448-1 1-1h14c0.552 0 1 0.448 1 1s-0.448 1-1 1z\"></path>\n",
       "<path d=\"M23 18h-14c-0.552 0-1-0.448-1-1s0.448-1 1-1h14c0.552 0 1 0.448 1 1s-0.448 1-1 1z\"></path>\n",
       "</symbol>\n",
       "</defs>\n",
       "</svg>\n",
       "<style>/* CSS stylesheet for displaying xarray objects in jupyterlab.\n",
       " *\n",
       " */\n",
       "\n",
       ":root {\n",
       "  --xr-font-color0: var(--jp-content-font-color0, rgba(0, 0, 0, 1));\n",
       "  --xr-font-color2: var(--jp-content-font-color2, rgba(0, 0, 0, 0.54));\n",
       "  --xr-font-color3: var(--jp-content-font-color3, rgba(0, 0, 0, 0.38));\n",
       "  --xr-border-color: var(--jp-border-color2, #e0e0e0);\n",
       "  --xr-disabled-color: var(--jp-layout-color3, #bdbdbd);\n",
       "  --xr-background-color: var(--jp-layout-color0, white);\n",
       "  --xr-background-color-row-even: var(--jp-layout-color1, white);\n",
       "  --xr-background-color-row-odd: var(--jp-layout-color2, #eeeeee);\n",
       "}\n",
       "\n",
       "html[theme=dark],\n",
       "body.vscode-dark {\n",
       "  --xr-font-color0: rgba(255, 255, 255, 1);\n",
       "  --xr-font-color2: rgba(255, 255, 255, 0.54);\n",
       "  --xr-font-color3: rgba(255, 255, 255, 0.38);\n",
       "  --xr-border-color: #1F1F1F;\n",
       "  --xr-disabled-color: #515151;\n",
       "  --xr-background-color: #111111;\n",
       "  --xr-background-color-row-even: #111111;\n",
       "  --xr-background-color-row-odd: #313131;\n",
       "}\n",
       "\n",
       ".xr-wrap {\n",
       "  display: block;\n",
       "  min-width: 300px;\n",
       "  max-width: 700px;\n",
       "}\n",
       "\n",
       ".xr-text-repr-fallback {\n",
       "  /* fallback to plain text repr when CSS is not injected (untrusted notebook) */\n",
       "  display: none;\n",
       "}\n",
       "\n",
       ".xr-header {\n",
       "  padding-top: 6px;\n",
       "  padding-bottom: 6px;\n",
       "  margin-bottom: 4px;\n",
       "  border-bottom: solid 1px var(--xr-border-color);\n",
       "}\n",
       "\n",
       ".xr-header > div,\n",
       ".xr-header > ul {\n",
       "  display: inline;\n",
       "  margin-top: 0;\n",
       "  margin-bottom: 0;\n",
       "}\n",
       "\n",
       ".xr-obj-type,\n",
       ".xr-array-name {\n",
       "  margin-left: 2px;\n",
       "  margin-right: 10px;\n",
       "}\n",
       "\n",
       ".xr-obj-type {\n",
       "  color: var(--xr-font-color2);\n",
       "}\n",
       "\n",
       ".xr-sections {\n",
       "  padding-left: 0 !important;\n",
       "  display: grid;\n",
       "  grid-template-columns: 150px auto auto 1fr 20px 20px;\n",
       "}\n",
       "\n",
       ".xr-section-item {\n",
       "  display: contents;\n",
       "}\n",
       "\n",
       ".xr-section-item input {\n",
       "  display: none;\n",
       "}\n",
       "\n",
       ".xr-section-item input + label {\n",
       "  color: var(--xr-disabled-color);\n",
       "}\n",
       "\n",
       ".xr-section-item input:enabled + label {\n",
       "  cursor: pointer;\n",
       "  color: var(--xr-font-color2);\n",
       "}\n",
       "\n",
       ".xr-section-item input:enabled + label:hover {\n",
       "  color: var(--xr-font-color0);\n",
       "}\n",
       "\n",
       ".xr-section-summary {\n",
       "  grid-column: 1;\n",
       "  color: var(--xr-font-color2);\n",
       "  font-weight: 500;\n",
       "}\n",
       "\n",
       ".xr-section-summary > span {\n",
       "  display: inline-block;\n",
       "  padding-left: 0.5em;\n",
       "}\n",
       "\n",
       ".xr-section-summary-in:disabled + label {\n",
       "  color: var(--xr-font-color2);\n",
       "}\n",
       "\n",
       ".xr-section-summary-in + label:before {\n",
       "  display: inline-block;\n",
       "  content: '►';\n",
       "  font-size: 11px;\n",
       "  width: 15px;\n",
       "  text-align: center;\n",
       "}\n",
       "\n",
       ".xr-section-summary-in:disabled + label:before {\n",
       "  color: var(--xr-disabled-color);\n",
       "}\n",
       "\n",
       ".xr-section-summary-in:checked + label:before {\n",
       "  content: '▼';\n",
       "}\n",
       "\n",
       ".xr-section-summary-in:checked + label > span {\n",
       "  display: none;\n",
       "}\n",
       "\n",
       ".xr-section-summary,\n",
       ".xr-section-inline-details {\n",
       "  padding-top: 4px;\n",
       "  padding-bottom: 4px;\n",
       "}\n",
       "\n",
       ".xr-section-inline-details {\n",
       "  grid-column: 2 / -1;\n",
       "}\n",
       "\n",
       ".xr-section-details {\n",
       "  display: none;\n",
       "  grid-column: 1 / -1;\n",
       "  margin-bottom: 5px;\n",
       "}\n",
       "\n",
       ".xr-section-summary-in:checked ~ .xr-section-details {\n",
       "  display: contents;\n",
       "}\n",
       "\n",
       ".xr-array-wrap {\n",
       "  grid-column: 1 / -1;\n",
       "  display: grid;\n",
       "  grid-template-columns: 20px auto;\n",
       "}\n",
       "\n",
       ".xr-array-wrap > label {\n",
       "  grid-column: 1;\n",
       "  vertical-align: top;\n",
       "}\n",
       "\n",
       ".xr-preview {\n",
       "  color: var(--xr-font-color3);\n",
       "}\n",
       "\n",
       ".xr-array-preview,\n",
       ".xr-array-data {\n",
       "  padding: 0 5px !important;\n",
       "  grid-column: 2;\n",
       "}\n",
       "\n",
       ".xr-array-data,\n",
       ".xr-array-in:checked ~ .xr-array-preview {\n",
       "  display: none;\n",
       "}\n",
       "\n",
       ".xr-array-in:checked ~ .xr-array-data,\n",
       ".xr-array-preview {\n",
       "  display: inline-block;\n",
       "}\n",
       "\n",
       ".xr-dim-list {\n",
       "  display: inline-block !important;\n",
       "  list-style: none;\n",
       "  padding: 0 !important;\n",
       "  margin: 0;\n",
       "}\n",
       "\n",
       ".xr-dim-list li {\n",
       "  display: inline-block;\n",
       "  padding: 0;\n",
       "  margin: 0;\n",
       "}\n",
       "\n",
       ".xr-dim-list:before {\n",
       "  content: '(';\n",
       "}\n",
       "\n",
       ".xr-dim-list:after {\n",
       "  content: ')';\n",
       "}\n",
       "\n",
       ".xr-dim-list li:not(:last-child):after {\n",
       "  content: ',';\n",
       "  padding-right: 5px;\n",
       "}\n",
       "\n",
       ".xr-has-index {\n",
       "  font-weight: bold;\n",
       "}\n",
       "\n",
       ".xr-var-list,\n",
       ".xr-var-item {\n",
       "  display: contents;\n",
       "}\n",
       "\n",
       ".xr-var-item > div,\n",
       ".xr-var-item label,\n",
       ".xr-var-item > .xr-var-name span {\n",
       "  background-color: var(--xr-background-color-row-even);\n",
       "  margin-bottom: 0;\n",
       "}\n",
       "\n",
       ".xr-var-item > .xr-var-name:hover span {\n",
       "  padding-right: 5px;\n",
       "}\n",
       "\n",
       ".xr-var-list > li:nth-child(odd) > div,\n",
       ".xr-var-list > li:nth-child(odd) > label,\n",
       ".xr-var-list > li:nth-child(odd) > .xr-var-name span {\n",
       "  background-color: var(--xr-background-color-row-odd);\n",
       "}\n",
       "\n",
       ".xr-var-name {\n",
       "  grid-column: 1;\n",
       "}\n",
       "\n",
       ".xr-var-dims {\n",
       "  grid-column: 2;\n",
       "}\n",
       "\n",
       ".xr-var-dtype {\n",
       "  grid-column: 3;\n",
       "  text-align: right;\n",
       "  color: var(--xr-font-color2);\n",
       "}\n",
       "\n",
       ".xr-var-preview {\n",
       "  grid-column: 4;\n",
       "}\n",
       "\n",
       ".xr-var-name,\n",
       ".xr-var-dims,\n",
       ".xr-var-dtype,\n",
       ".xr-preview,\n",
       ".xr-attrs dt {\n",
       "  white-space: nowrap;\n",
       "  overflow: hidden;\n",
       "  text-overflow: ellipsis;\n",
       "  padding-right: 10px;\n",
       "}\n",
       "\n",
       ".xr-var-name:hover,\n",
       ".xr-var-dims:hover,\n",
       ".xr-var-dtype:hover,\n",
       ".xr-attrs dt:hover {\n",
       "  overflow: visible;\n",
       "  width: auto;\n",
       "  z-index: 1;\n",
       "}\n",
       "\n",
       ".xr-var-attrs,\n",
       ".xr-var-data {\n",
       "  display: none;\n",
       "  background-color: var(--xr-background-color) !important;\n",
       "  padding-bottom: 5px !important;\n",
       "}\n",
       "\n",
       ".xr-var-attrs-in:checked ~ .xr-var-attrs,\n",
       ".xr-var-data-in:checked ~ .xr-var-data {\n",
       "  display: block;\n",
       "}\n",
       "\n",
       ".xr-var-data > table {\n",
       "  float: right;\n",
       "}\n",
       "\n",
       ".xr-var-name span,\n",
       ".xr-var-data,\n",
       ".xr-attrs {\n",
       "  padding-left: 25px !important;\n",
       "}\n",
       "\n",
       ".xr-attrs,\n",
       ".xr-var-attrs,\n",
       ".xr-var-data {\n",
       "  grid-column: 1 / -1;\n",
       "}\n",
       "\n",
       "dl.xr-attrs {\n",
       "  padding: 0;\n",
       "  margin: 0;\n",
       "  display: grid;\n",
       "  grid-template-columns: 125px auto;\n",
       "}\n",
       "\n",
       ".xr-attrs dt, dd {\n",
       "  padding: 0;\n",
       "  margin: 0;\n",
       "  float: left;\n",
       "  padding-right: 10px;\n",
       "  width: auto;\n",
       "}\n",
       "\n",
       ".xr-attrs dt {\n",
       "  font-weight: normal;\n",
       "  grid-column: 1;\n",
       "}\n",
       "\n",
       ".xr-attrs dt:hover span {\n",
       "  display: inline-block;\n",
       "  background: var(--xr-background-color);\n",
       "  padding-right: 10px;\n",
       "}\n",
       "\n",
       ".xr-attrs dd {\n",
       "  grid-column: 2;\n",
       "  white-space: pre-wrap;\n",
       "  word-break: break-all;\n",
       "}\n",
       "\n",
       ".xr-icon-database,\n",
       ".xr-icon-file-text2 {\n",
       "  display: inline-block;\n",
       "  vertical-align: middle;\n",
       "  width: 1em;\n",
       "  height: 1.5em !important;\n",
       "  stroke-width: 0;\n",
       "  stroke: currentColor;\n",
       "  fill: currentColor;\n",
       "}\n",
       "</style><pre class='xr-text-repr-fallback'>&lt;xarray.Dataset&gt;\n",
       "Dimensions:    (hour: 1, latitude: 396, longitude: 221)\n",
       "Coordinates:\n",
       "    step       timedelta64[ns] 01:00:00\n",
       "    surface    int32 0\n",
       "    number     int32 0\n",
       "  * longitude  (longitude) float64 -70.0 -69.9 -69.8 -69.7 ... -48.2 -48.1 -48.0\n",
       "  * latitude   (latitude) float64 5.5 5.4 5.3 5.2 ... -33.7 -33.8 -33.9 -34.0\n",
       "  * hour       (hour) int64 0\n",
       "Data variables:\n",
       "    u10        (hour, latitude, longitude) float32 -0.6391772 ... nan\n",
       "    v10        (hour, latitude, longitude) float32 0.05270239 0.06904068 ... nan\n",
       "    tp         (hour, latitude, longitude) float32 0.00013752608 ... nan</pre><div class='xr-wrap' hidden><div class='xr-header'><div class='xr-obj-type'>xarray.Dataset</div></div><ul class='xr-sections'><li class='xr-section-item'><input id='section-0630dc36-8431-4b89-b3ed-7c551acf73f1' class='xr-section-summary-in' type='checkbox' disabled ><label for='section-0630dc36-8431-4b89-b3ed-7c551acf73f1' class='xr-section-summary'  title='Expand/collapse section'>Dimensions:</label><div class='xr-section-inline-details'><ul class='xr-dim-list'><li><span class='xr-has-index'>hour</span>: 1</li><li><span class='xr-has-index'>latitude</span>: 396</li><li><span class='xr-has-index'>longitude</span>: 221</li></ul></div><div class='xr-section-details'></div></li><li class='xr-section-item'><input id='section-f31cfaae-b48c-4d6c-9e09-af0c6bd6b6bc' class='xr-section-summary-in' type='checkbox'  checked><label for='section-f31cfaae-b48c-4d6c-9e09-af0c6bd6b6bc' class='xr-section-summary' >Coordinates: <span>(6)</span></label><div class='xr-section-inline-details'></div><div class='xr-section-details'><ul class='xr-var-list'><li class='xr-var-item'><div class='xr-var-name'><span>step</span></div><div class='xr-var-dims'>()</div><div class='xr-var-dtype'>timedelta64[ns]</div><div class='xr-var-preview xr-preview'>01:00:00</div><input id='attrs-fe22e118-f024-4668-92d7-c9c7a1ff1cc0' class='xr-var-attrs-in' type='checkbox' ><label for='attrs-fe22e118-f024-4668-92d7-c9c7a1ff1cc0' title='Show/Hide attributes'><svg class='icon xr-icon-file-text2'><use xlink:href='#icon-file-text2'></use></svg></label><input id='data-2ab1bcba-9436-47de-a731-fa50878f577a' class='xr-var-data-in' type='checkbox'><label for='data-2ab1bcba-9436-47de-a731-fa50878f577a' title='Show/Hide data repr'><svg class='icon xr-icon-database'><use xlink:href='#icon-database'></use></svg></label><div class='xr-var-attrs'><dl class='xr-attrs'><dt><span>long_name :</span></dt><dd>time since forecast_reference_time</dd><dt><span>standard_name :</span></dt><dd>forecast_period</dd></dl></div><div class='xr-var-data'><pre>array(3600000000000, dtype=&#x27;timedelta64[ns]&#x27;)</pre></div></li><li class='xr-var-item'><div class='xr-var-name'><span>surface</span></div><div class='xr-var-dims'>()</div><div class='xr-var-dtype'>int32</div><div class='xr-var-preview xr-preview'>0</div><input id='attrs-1e8d76d2-7bac-43dd-888d-7a54696d31a2' class='xr-var-attrs-in' type='checkbox' ><label for='attrs-1e8d76d2-7bac-43dd-888d-7a54696d31a2' title='Show/Hide attributes'><svg class='icon xr-icon-file-text2'><use xlink:href='#icon-file-text2'></use></svg></label><input id='data-5c98445d-4a8c-4cc5-9fa4-e486ccb14cdc' class='xr-var-data-in' type='checkbox'><label for='data-5c98445d-4a8c-4cc5-9fa4-e486ccb14cdc' title='Show/Hide data repr'><svg class='icon xr-icon-database'><use xlink:href='#icon-database'></use></svg></label><div class='xr-var-attrs'><dl class='xr-attrs'><dt><span>long_name :</span></dt><dd>original GRIB coordinate for key: level(surface)</dd><dt><span>units :</span></dt><dd>1</dd></dl></div><div class='xr-var-data'><pre>array(0, dtype=int32)</pre></div></li><li class='xr-var-item'><div class='xr-var-name'><span>number</span></div><div class='xr-var-dims'>()</div><div class='xr-var-dtype'>int32</div><div class='xr-var-preview xr-preview'>0</div><input id='attrs-35b760df-2605-4f82-b8f1-a1c57f518027' class='xr-var-attrs-in' type='checkbox' ><label for='attrs-35b760df-2605-4f82-b8f1-a1c57f518027' title='Show/Hide attributes'><svg class='icon xr-icon-file-text2'><use xlink:href='#icon-file-text2'></use></svg></label><input id='data-c9557a56-fdb3-4cdb-82c0-1dae528486ac' class='xr-var-data-in' type='checkbox'><label for='data-c9557a56-fdb3-4cdb-82c0-1dae528486ac' title='Show/Hide data repr'><svg class='icon xr-icon-database'><use xlink:href='#icon-database'></use></svg></label><div class='xr-var-attrs'><dl class='xr-attrs'><dt><span>long_name :</span></dt><dd>ensemble member numerical id</dd><dt><span>units :</span></dt><dd>1</dd><dt><span>standard_name :</span></dt><dd>realization</dd></dl></div><div class='xr-var-data'><pre>array(0, dtype=int32)</pre></div></li><li class='xr-var-item'><div class='xr-var-name'><span class='xr-has-index'>longitude</span></div><div class='xr-var-dims'>(longitude)</div><div class='xr-var-dtype'>float64</div><div class='xr-var-preview xr-preview'>-70.0 -69.9 -69.8 ... -48.1 -48.0</div><input id='attrs-a802b12a-3ee6-42f0-8f3f-917f7ae0928d' class='xr-var-attrs-in' type='checkbox' ><label for='attrs-a802b12a-3ee6-42f0-8f3f-917f7ae0928d' title='Show/Hide attributes'><svg class='icon xr-icon-file-text2'><use xlink:href='#icon-file-text2'></use></svg></label><input id='data-53c70bf4-d1e4-4f38-a706-ed36dc484522' class='xr-var-data-in' type='checkbox'><label for='data-53c70bf4-d1e4-4f38-a706-ed36dc484522' title='Show/Hide data repr'><svg class='icon xr-icon-database'><use xlink:href='#icon-database'></use></svg></label><div class='xr-var-attrs'><dl class='xr-attrs'><dt><span>units :</span></dt><dd>degrees_east</dd><dt><span>standard_name :</span></dt><dd>longitude</dd><dt><span>long_name :</span></dt><dd>longitude</dd></dl></div><div class='xr-var-data'><pre>array([-70. , -69.9, -69.8, ..., -48.2, -48.1, -48. ])</pre></div></li><li class='xr-var-item'><div class='xr-var-name'><span class='xr-has-index'>latitude</span></div><div class='xr-var-dims'>(latitude)</div><div class='xr-var-dtype'>float64</div><div class='xr-var-preview xr-preview'>5.5 5.4 5.3 ... -33.8 -33.9 -34.0</div><input id='attrs-92237503-75b8-4622-b7e3-a7ce8556b7de' class='xr-var-attrs-in' type='checkbox' ><label for='attrs-92237503-75b8-4622-b7e3-a7ce8556b7de' title='Show/Hide attributes'><svg class='icon xr-icon-file-text2'><use xlink:href='#icon-file-text2'></use></svg></label><input id='data-44db0b53-d73e-47e2-ab43-fb01bf1da031' class='xr-var-data-in' type='checkbox'><label for='data-44db0b53-d73e-47e2-ab43-fb01bf1da031' title='Show/Hide data repr'><svg class='icon xr-icon-database'><use xlink:href='#icon-database'></use></svg></label><div class='xr-var-attrs'><dl class='xr-attrs'><dt><span>units :</span></dt><dd>degrees_north</dd><dt><span>standard_name :</span></dt><dd>latitude</dd><dt><span>long_name :</span></dt><dd>latitude</dd><dt><span>stored_direction :</span></dt><dd>decreasing</dd></dl></div><div class='xr-var-data'><pre>array([  5.5,   5.4,   5.3, ..., -33.8, -33.9, -34. ])</pre></div></li><li class='xr-var-item'><div class='xr-var-name'><span class='xr-has-index'>hour</span></div><div class='xr-var-dims'>(hour)</div><div class='xr-var-dtype'>int64</div><div class='xr-var-preview xr-preview'>0</div><input id='attrs-27b06fb3-8d8f-4777-88e4-712bae52249d' class='xr-var-attrs-in' type='checkbox' disabled><label for='attrs-27b06fb3-8d8f-4777-88e4-712bae52249d' title='Show/Hide attributes'><svg class='icon xr-icon-file-text2'><use xlink:href='#icon-file-text2'></use></svg></label><input id='data-42f284b4-aaba-4085-98b2-9c93683d53ad' class='xr-var-data-in' type='checkbox'><label for='data-42f284b4-aaba-4085-98b2-9c93683d53ad' title='Show/Hide data repr'><svg class='icon xr-icon-database'><use xlink:href='#icon-database'></use></svg></label><div class='xr-var-attrs'><dl class='xr-attrs'></dl></div><div class='xr-var-data'><pre>array([0])</pre></div></li></ul></div></li><li class='xr-section-item'><input id='section-0fd882cf-d1ad-4f25-a023-1d2e0e6bdf7a' class='xr-section-summary-in' type='checkbox'  checked><label for='section-0fd882cf-d1ad-4f25-a023-1d2e0e6bdf7a' class='xr-section-summary' >Data variables: <span>(3)</span></label><div class='xr-section-inline-details'></div><div class='xr-section-details'><ul class='xr-var-list'><li class='xr-var-item'><div class='xr-var-name'><span>u10</span></div><div class='xr-var-dims'>(hour, latitude, longitude)</div><div class='xr-var-dtype'>float32</div><div class='xr-var-preview xr-preview'>-0.6391772 -0.56415254 ... nan nan</div><input id='attrs-bcf4a9f9-9d92-4a69-a495-38971b83282e' class='xr-var-attrs-in' type='checkbox' disabled><label for='attrs-bcf4a9f9-9d92-4a69-a495-38971b83282e' title='Show/Hide attributes'><svg class='icon xr-icon-file-text2'><use xlink:href='#icon-file-text2'></use></svg></label><input id='data-f0ad55a3-3db8-4c58-b8ca-81fb79717062' class='xr-var-data-in' type='checkbox'><label for='data-f0ad55a3-3db8-4c58-b8ca-81fb79717062' title='Show/Hide data repr'><svg class='icon xr-icon-database'><use xlink:href='#icon-database'></use></svg></label><div class='xr-var-attrs'><dl class='xr-attrs'></dl></div><div class='xr-var-data'><pre>array([[[-0.6391772 , -0.56415254, -0.48920357, ...,         nan,\n",
       "                 nan,         nan],\n",
       "        [-0.6308561 , -0.56344557, -0.49445575, ...,         nan,\n",
       "                 nan,         nan],\n",
       "        [-0.5993259 , -0.54681224, -0.49327224, ...,         nan,\n",
       "                 nan,         nan],\n",
       "        ...,\n",
       "        [-0.56411445, -0.1872048 ,  0.20356776, ...,         nan,\n",
       "                 nan,         nan],\n",
       "        [-0.54421586, -0.2142768 ,  0.12288564, ...,         nan,\n",
       "                 nan,         nan],\n",
       "        [-0.47484702, -0.11970309,  0.23792046, ...,         nan,\n",
       "                 nan,         nan]]], dtype=float32)</pre></div></li><li class='xr-var-item'><div class='xr-var-name'><span>v10</span></div><div class='xr-var-dims'>(hour, latitude, longitude)</div><div class='xr-var-dtype'>float32</div><div class='xr-var-preview xr-preview'>0.05270239 0.06904068 ... nan nan</div><input id='attrs-dd783016-9a42-45e4-979f-eb56aac3fd4e' class='xr-var-attrs-in' type='checkbox' disabled><label for='attrs-dd783016-9a42-45e4-979f-eb56aac3fd4e' title='Show/Hide attributes'><svg class='icon xr-icon-file-text2'><use xlink:href='#icon-file-text2'></use></svg></label><input id='data-67a3be95-5032-4ac6-8cdd-1d0f460cf87d' class='xr-var-data-in' type='checkbox'><label for='data-67a3be95-5032-4ac6-8cdd-1d0f460cf87d' title='Show/Hide data repr'><svg class='icon xr-icon-database'><use xlink:href='#icon-database'></use></svg></label><div class='xr-var-attrs'><dl class='xr-attrs'></dl></div><div class='xr-var-data'><pre>array([[[ 0.05270239,  0.06904068,  0.0857091 , ...,         nan,\n",
       "                 nan,         nan],\n",
       "        [ 0.06286073,  0.08216057,  0.10003697, ...,         nan,\n",
       "                 nan,         nan],\n",
       "        [ 0.0688061 ,  0.09519768,  0.12349676, ...,         nan,\n",
       "                 nan,         nan],\n",
       "        ...,\n",
       "        [-0.19313768, -0.3673225 , -0.50870645, ...,         nan,\n",
       "                 nan,         nan],\n",
       "        [-0.13240084, -0.3255383 , -0.5054095 , ...,         nan,\n",
       "                 nan,         nan],\n",
       "        [-0.20175792, -0.35702503, -0.5087797 , ...,         nan,\n",
       "                 nan,         nan]]], dtype=float32)</pre></div></li><li class='xr-var-item'><div class='xr-var-name'><span>tp</span></div><div class='xr-var-dims'>(hour, latitude, longitude)</div><div class='xr-var-dtype'>float32</div><div class='xr-var-preview xr-preview'>0.00013752608 0.0001655678 ... nan</div><input id='attrs-584060af-2615-4a1f-bfbc-486ac0b6ed69' class='xr-var-attrs-in' type='checkbox' disabled><label for='attrs-584060af-2615-4a1f-bfbc-486ac0b6ed69' title='Show/Hide attributes'><svg class='icon xr-icon-file-text2'><use xlink:href='#icon-file-text2'></use></svg></label><input id='data-e07ea4ec-9d21-470a-960f-8b08e56a9ed4' class='xr-var-data-in' type='checkbox'><label for='data-e07ea4ec-9d21-470a-960f-8b08e56a9ed4' title='Show/Hide data repr'><svg class='icon xr-icon-database'><use xlink:href='#icon-database'></use></svg></label><div class='xr-var-attrs'><dl class='xr-attrs'></dl></div><div class='xr-var-data'><pre>array([[[0.00013753, 0.00016557, 0.00019347, ...,        nan,\n",
       "                nan,        nan],\n",
       "        [0.00015643, 0.00017866, 0.00020247, ...,        nan,\n",
       "                nan,        nan],\n",
       "        [0.00018761, 0.00019865, 0.00020895, ...,        nan,\n",
       "                nan,        nan],\n",
       "        ...,\n",
       "        [0.0001729 , 0.00014819, 0.00012418, ...,        nan,\n",
       "                nan,        nan],\n",
       "        [0.00018722, 0.00015882, 0.00013067, ...,        nan,\n",
       "                nan,        nan],\n",
       "        [0.00020634, 0.00017499, 0.00014322, ...,        nan,\n",
       "                nan,        nan]]], dtype=float32)</pre></div></li></ul></div></li><li class='xr-section-item'><input id='section-56fe1f9a-7948-4f0f-9a19-5e7769bb5210' class='xr-section-summary-in' type='checkbox' disabled ><label for='section-56fe1f9a-7948-4f0f-9a19-5e7769bb5210' class='xr-section-summary'  title='Expand/collapse section'>Attributes: <span>(0)</span></label><div class='xr-section-inline-details'></div><div class='xr-section-details'><dl class='xr-attrs'></dl></div></li></ul></div></div>"
      ],
      "text/plain": [
       "<xarray.Dataset>\n",
       "Dimensions:    (hour: 1, latitude: 396, longitude: 221)\n",
       "Coordinates:\n",
       "    step       timedelta64[ns] 01:00:00\n",
       "    surface    int32 0\n",
       "    number     int32 0\n",
       "  * longitude  (longitude) float64 -70.0 -69.9 -69.8 -69.7 ... -48.2 -48.1 -48.0\n",
       "  * latitude   (latitude) float64 5.5 5.4 5.3 5.2 ... -33.7 -33.8 -33.9 -34.0\n",
       "  * hour       (hour) int64 0\n",
       "Data variables:\n",
       "    u10        (hour, latitude, longitude) float32 -0.6391772 ... nan\n",
       "    v10        (hour, latitude, longitude) float32 0.05270239 0.06904068 ... nan\n",
       "    tp         (hour, latitude, longitude) float32 0.00013752608 ... nan"
      ]
     },
     "execution_count": 53,
     "metadata": {},
     "output_type": "execute_result"
    },
    {
     "name": "stdout",
     "output_type": "stream",
     "text": [
      "time: 81.2 ms\n"
     ]
    }
   ],
   "source": [
    "m_data"
   ]
  },
  {
   "cell_type": "code",
   "execution_count": 147,
   "metadata": {},
   "outputs": [
    {
     "name": "stdout",
     "output_type": "stream",
     "text": [
      "time: 8.47 ms\n"
     ]
    }
   ],
   "source": [
    "import gpxpy\n",
    "from geopy.distance import geodesic\n",
    "import pandas as pd\n",
    "from tqdm.auto import tqdm\n",
    "from scipy.optimize import brentq\n",
    "\n",
    "# Parameters\n",
    "TOTAL_WEIGHT = 70\n",
    "CRR = 0.007\n",
    "CDA = 0.32\n",
    "INEFFICIENCY = 1.03\n",
    "RHO = 1.226\n",
    "\n",
    "# Pacing strategies\n",
    "STRATEGIES = {'uphill': {'filter': lambda x: x >= 0.5,\n",
    "                         'power': 125},\n",
    "              'flat': {'filter': lambda x: (x < 0.5) & (x > -0.5),\n",
    "                       'power': 100},\n",
    "              'downhill': {'filter': lambda x: x <= -0.5,\n",
    "                           'power': 25}}\n",
    "\n",
    "\n",
    "def power_gravitational(speed, grad, weight=TOTAL_WEIGHT):\n",
    "    \"\"\"\n",
    "    Power for winning gravity\n",
    "    \"\"\"\n",
    "    return 9.8067 * weight * speed * np.sin(np.arctan(grad))\n",
    "\n",
    "\n",
    "def power_wind(speed, cda=CDA, rho=RHO):\n",
    "    \"\"\"\n",
    "    Power for winning wind\n",
    "    \"\"\"\n",
    "    return 0.5 * rho * cda * (speed ** 3)\n",
    "\n",
    "\n",
    "def power_rolling(speed, grad, crr=CRR, weight=TOTAL_WEIGHT):\n",
    "    \"\"\"\n",
    "    Power for winning tyres\n",
    "    \"\"\"\n",
    "    return 9.8067 * crr * speed * np.cos(np.arctan(grad)) * weight\n",
    "\n",
    "\n",
    "def power(speed, grad):\n",
    "    \"\"\"\n",
    "    Overral power\n",
    "    \"\"\"\n",
    "    return (power_gravitational(speed, grad)\n",
    "            + power_wind(speed)\n",
    "            + power_rolling(speed, grad)) * INEFFICIENCY\n",
    "\n",
    "\n",
    "def speed(_power, grad):\n",
    "    \"\"\"\n",
    "    Speed given an power and a grad.\n",
    "    \"\"\"\n",
    "    def optimize_function(speed, grad): return _power - power(speed, grad)\n",
    "    return brentq(optimize_function, -0.01, 100.0, grad)\n",
    "\n",
    "\n",
    "def gradient(df):\n",
    "    N = 15\n",
    "    return 100 * df.ele.diff().rolling(N).mean() / df.delta.rolling(N).mean()\n",
    "\n",
    "\n",
    "def calculate_speeds(df):\n",
    "    # Get the speeds for the route given the pacing strategies\n",
    "    output = {}\n",
    "    for strategy, params in tqdm(STRATEGIES.items()):\n",
    "        grads = df.where(lambda df: params['filter'](df.grad)).grad.dropna()\n",
    "        speeds = grads.apply(lambda grad: speed(\n",
    "            params['power'], grad / 100) * 3.6)\n",
    "        output[strategy] = speeds\n",
    "        df.loc[grads.index, 'speed'] = speeds\n",
    "    # Summary\n",
    "    for strategy, out in output.items():\n",
    "        print(\"{}: {:.0f} ({:.0f} to {:.0f}) km/h\".format(strategy,\n",
    "                                                          out.median(), out.quantile(0.05), out.quantile(0.95)))\n",
    "    speeds = pd.concat(output.values())\n",
    "    return speeds\n",
    "\n",
    "\n",
    "def calculate_deltas(df):\n",
    "    deltas = {}\n",
    "    for i, (ind, row) in tqdm(enumerate(df.iterrows()),\n",
    "                              total=len(df),\n",
    "                              desc='Calculating deltas'):\n",
    "        lat2 = row.lat\n",
    "        lon2 = row.lon\n",
    "        if i > 0:\n",
    "            delta_x = geodesic((lat1, lon1), (lat1, lon2)).meters\n",
    "            if lon2 < lon1:\n",
    "                delta_x *= -1\n",
    "            delta_y = geodesic((lat1, lon1), (lat2, lon1)).meters\n",
    "            if lat2 < lat1:\n",
    "                delta_y *= -1\n",
    "            delta = geodesic((lat1, lon1), (lat2, lon2)).meters\n",
    "            deltas[ind] = (delta, delta_x, delta_y)\n",
    "        (lat1, lon1) = (lat2, lon2)\n",
    "    return deltas\n",
    "\n",
    "\n",
    "def load_route(content=False):\n",
    "    if content is False:\n",
    "        with open(GPX_PATH, 'r') as fid:\n",
    "            content = fid.read()\n",
    "    gpx = gpxpy.parse(content)\n",
    "\n",
    "    route_points = gpx.tracks[0].segments[0].points\n",
    "    df = (pd.DataFrame([(p.longitude, p.latitude, p.elevation) for p in route_points],\n",
    "                       columns=['lon', 'lat', 'ele'])\n",
    "          .drop_duplicates(subset=['lat', 'lon'])\n",
    "          )\n",
    "    deltas = calculate_deltas(df)\n",
    "    delta = {k: v[0] for k, v in deltas.items()}\n",
    "    delta_x = {k: v[1] for k, v in deltas.items()}\n",
    "    delta_y = {k: v[2] for k, v in deltas.items()}\n",
    "    df = df.join(pd.Series(delta, name='delta'))\n",
    "    df = df.join(pd.Series(delta_x, name='delta_x'))\n",
    "    df = df.join(pd.Series(delta_y, name='delta_y'))\n",
    "    df = df.assign(u_x=lambda df: df.delta_x / df.delta)\n",
    "    df = df.assign(u_y=lambda df: df.delta_y / df.delta)\n",
    "    df = df.assign(grad=gradient)\n",
    "    df['grad'] = df.grad\n",
    "    speeds = df.pipe(calculate_speeds)\n",
    "\n",
    "    df = df.assign(total_distance=df.delta.cumsum() / 1000)\n",
    "    df = df.assign(duration=df.delta / (1000 * df.speed))\n",
    "    df = df.assign(total_duration=df.duration.cumsum())\n",
    "    df = df.assign(days=df.total_duration // 8)\n",
    "    df = df.assign(hours=df.total_duration // 1)\n",
    "    return df"
   ]
  },
  {
   "cell_type": "code",
   "execution_count": 148,
   "metadata": {},
   "outputs": [
    {
     "name": "stderr",
     "output_type": "stream",
     "text": [
      "Calculating deltas: 100%|██████████| 87891/87891 [01:23<00:00, 1051.29it/s]\n",
      "100%|██████████| 3/3 [00:14<00:00,  4.82s/it]"
     ]
    },
    {
     "name": "stdout",
     "output_type": "stream",
     "text": [
      "uphill: 20 (9 to 24) km/h\n",
      "flat: 25 (23 to 27) km/h\n",
      "downhill: 27 (17 to 53) km/h\n",
      "time: 1min 43s\n"
     ]
    },
    {
     "name": "stderr",
     "output_type": "stream",
     "text": [
      "\n"
     ]
    }
   ],
   "source": [
    "route_data = load_route().dropna()"
   ]
  },
  {
   "cell_type": "code",
   "execution_count": null,
   "metadata": {},
   "outputs": [],
   "source": [
    "def get_wind_metrics(ds, lat, lon, hour):\n",
    "    summary = ds.sel(latitude=lat, longitude=lon,\n",
    "                     hour=hour, method='nearest')  # %%\n",
    "    return (summary.u10, summary.v10)\n",
    "\n",
    "wind_speed_mean = {}\n",
    "wind_speed_std = {}\n",
    "(w_u, w_v) = get_wind_metrics(m_data, route_data.lat, route_data.lon, 12)\n",
    "m_w_s = w_u ** 2 + w_v ** 2\n",
    "\n",
    "(w_u, w_v) = get_wind_metrics(s_data,route_data.lat, route_data.lon, 12)\n",
    "s_w_s = w_u ** 2 + w_v ** 2"
   ]
  },
  {
   "cell_type": "code",
   "execution_count": 144,
   "metadata": {},
   "outputs": [
    {
     "name": "stdout",
     "output_type": "stream",
     "text": [
      "time: 5.58 ms\n"
     ]
    }
   ],
   "source": [
    "route_data = route_data.join(pd.Series(np.diag(m_w_s.values), name='wind_speed_mean'))\n",
    "route_data = route_data.join(pd.Series(np.diag(s_w_s.values), name='wind_speed_std'))"
   ]
  },
  {
   "cell_type": "code",
   "execution_count": 145,
   "metadata": {},
   "outputs": [
    {
     "data": {
      "text/plain": [
       "<matplotlib.axes._subplots.AxesSubplot at 0x7f2749a15890>"
      ]
     },
     "execution_count": 145,
     "metadata": {},
     "output_type": "execute_result"
    },
    {
     "data": {
      "image/png": "[encoded data removed]",
      "text/plain": [
       "<Figure size 432x288 with 1 Axes>"
      ]
     },
     "metadata": {
      "needs_background": "light"
     },
     "output_type": "display_data"
    },
    {
     "name": "stdout",
     "output_type": "stream",
     "text": [
      "time: 156 ms\n"
     ]
    }
   ],
   "source": [
    "route_data.wind_speed_mean.hist()"
   ]
  },
  {
   "cell_type": "code",
   "execution_count": 146,
   "metadata": {},
   "outputs": [
    {
     "data": {
      "text/plain": [
       "<matplotlib.axes._subplots.AxesSubplot at 0x7f27712e9110>"
      ]
     },
     "execution_count": 146,
     "metadata": {},
     "output_type": "execute_result"
    },
    {
     "data": {
      "image/png": "[encoded data removed]",
      "text/plain": [
       "<Figure size 432x288 with 1 Axes>"
      ]
     },
     "metadata": {
      "needs_background": "light"
     },
     "output_type": "display_data"
    },
    {
     "name": "stdout",
     "output_type": "stream",
     "text": [
      "time: 173 ms\n"
     ]
    }
   ],
   "source": [
    "route_data.wind_speed_std.hist()"
   ]
  },
  {
   "cell_type": "code",
   "execution_count": null,
   "metadata": {},
   "outputs": [],
   "source": []
  }
 ],
 "metadata": {
  "kernelspec": {
   "display_name": "Python 3.7.6 64-bit ('base': conda)",
   "language": "python",
   "name": "python37664bitbaseconda6479b0b2f87d4da18d58f50345a66fb3"
  },
  "language_info": {
   "codemirror_mode": {
    "name": "ipython",
    "version": 3
   },
   "file_extension": ".py",
   "mimetype": "text/x-python",
   "name": "python",
   "nbconvert_exporter": "python",
   "pygments_lexer": "ipython3",
   "version": "3.7.6"
  }
 },
 "nbformat": 4,
 "nbformat_minor": 4
}
