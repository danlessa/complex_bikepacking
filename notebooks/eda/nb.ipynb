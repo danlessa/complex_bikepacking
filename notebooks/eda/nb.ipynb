{
 "cells": [
  {
   "cell_type": "markdown",
   "metadata": {},
   "source": [
    "# Download historical weather for points contained inside a GPX file\n",
    "\n",
    "## Steps\n",
    "\n",
    "- Parse a GPX file into a Pandas DataFrame\n",
    "- Calculate the distance between points\n",
    "- Interpolate if needed\n",
    "- Generate download JSON"
   ]
  },
  {
   "cell_type": "markdown",
   "metadata": {},
   "source": [
    "## Parameters & dependences"
   ]
  },
  {
   "cell_type": "code",
   "execution_count": 1,
   "metadata": {},
   "outputs": [],
   "source": [
    "# Dependences\n",
    "import requests as req\n",
    "import gpxpy\n",
    "from geopy.distance import geodesic\n",
    "import pandas as pd\n",
    "import numpy as np\n",
    "from scipy.optimize import brentq\n",
    "import plotly.express as px\n",
    "from tqdm.auto import tqdm\n",
    "from typing import List, Tuple, Dict"
   ]
  },
  {
   "cell_type": "code",
   "execution_count": 2,
   "metadata": {},
   "outputs": [],
   "source": [
    "# Parameters\n",
    "route_path = '../data/uiramata_chui.gpx'"
   ]
  },
  {
   "cell_type": "markdown",
   "metadata": {},
   "source": [
    "## Load GPX"
   ]
  },
  {
   "cell_type": "code",
   "execution_count": 3,
   "metadata": {},
   "outputs": [],
   "source": [
    "def calculate_deltas(df: pd.DataFrame) -> Dict[int, Tuple[float, float, float]]:\n",
    "    \"\"\"\n",
    "    \n",
    "    \"\"\"\n",
    "    deltas = {}\n",
    "    for i, (ind, row) in tqdm(enumerate(df.iterrows()),\n",
    "                              total=len(df),\n",
    "                              desc='Calculating deltas'):\n",
    "        (lat2, lon2) = (row.lat, row.lon)        \n",
    "        if i > 0:\n",
    "            # Calculate horizontal, vertical and actual deltas\n",
    "            delta_x = geodesic((lat1, lon1), (lat1, lon2)).meters\n",
    "            delta_y = geodesic((lat1, lon1), (lat2, lon1)).meters\n",
    "            delta = geodesic((lat1, lon1), (lat2, lon2)).meters\n",
    "            \n",
    "            # Put a negative signal if it is west / south directed\n",
    "            if lon2 < lon1:\n",
    "                delta_x *= -1\n",
    "            if lat2 < lat1:\n",
    "                delta_y *= -1\n",
    "            \n",
    "            # Attribute tuple of deltas \n",
    "            deltas[ind] = (delta, delta_x, delta_y)\n",
    "        (lat1, lon1) = (lat2, lon2)\n",
    "    return deltas\n",
    "\n",
    "\n",
    "def load_route(path: str) -> pd.DataFrame:\n",
    "    \"\"\"\n",
    "    \n",
    "    \"\"\"\n",
    "    # Load and parse GPX\n",
    "    with open(path, 'r') as fid:\n",
    "        content: str = fid.read()\n",
    "    gpx: dict = gpxpy.parse(content)\n",
    "    \n",
    "    # Get points associated with the first track and segment\n",
    "    route_points: List[Tuple[float, float, float]] = gpx.tracks[0].segments[0].points\n",
    "    \n",
    "    # Generate dataframe from points\n",
    "    cols = ['lon', 'lat', 'ele']\n",
    "    df = (pd.DataFrame([(p.longitude, p.latitude, p.elevation) \n",
    "                         for p \n",
    "                         in route_points],\n",
    "                       columns=cols)\n",
    "          .drop_duplicates(subset=['lat', 'lon'])\n",
    "          )\n",
    "    return df\n",
    "\n",
    "\n",
    "def append_deltas(df: pd.DataFrame) -> pd.DataFrame:\n",
    "    \"\"\"\n",
    "    \n",
    "    \"\"\"\n",
    "    # Get the distance difference between each sucessive point\n",
    "    deltas = calculate_deltas(df)\n",
    "    \n",
    "    # Put deltas into variables\n",
    "    delta = {k: v[0] for k, v in deltas.items()}\n",
    "    delta_x = {k: v[1] for k, v in deltas.items()}\n",
    "    delta_y = {k: v[2] for k, v in deltas.items()}\n",
    "    \n",
    "    # Append deltas        lon2 = row.lon\n",
    "\n",
    "    df = df.join(pd.Series(delta, name='delta'))\n",
    "    df = df.join(pd.Series(delta_x, name='delta_x'))\n",
    "    df = df.join(pd.Series(delta_y, name='delta_y'))\n",
    "    \n",
    "    # Calculate velocities on the latitude and longitude axes\n",
    "    df = df.assign(u_x=lambda df: df.delta_x / df.delta)\n",
    "    df = df.assign(u_y=lambda df: df.delta_y / df.delta)\n",
    "    \n",
    "    return df"
   ]
  },
  {
   "cell_type": "code",
   "execution_count": 6,
   "metadata": {},
   "outputs": [
    {
     "data": {
      "application/vnd.jupyter.widget-view+json": {
       "model_id": "862d1008d48d47e495dd7bcfb489db87",
       "version_major": 2,
       "version_minor": 0
      },
      "text/plain": [
       "HBox(children=(HTML(value='Calculating deltas'), FloatProgress(value=0.0, max=87891.0), HTML(value='')))"
      ]
     },
     "metadata": {},
     "output_type": "display_data"
    },
    {
     "name": "stdout",
     "output_type": "stream",
     "text": [
      "\n"
     ]
    }
   ],
   "source": [
    "df = (load_route(route_path).pipe(append_deltas))"
   ]
  },
  {
   "cell_type": "code",
   "execution_count": 10,
   "metadata": {},
   "outputs": [],
   "source": [
    "df = df.assign(cumm_km=lambda df: df.delta.cumsum() / 1000)"
   ]
  },
  {
   "cell_type": "code",
   "execution_count": 11,
   "metadata": {},
   "outputs": [],
   "source": [
    "intervals = df.cumm_km // 1\n",
    "inds = intervals.diff() != 0.0\n",
    "interval_points = intervals[inds].index\n",
    "points = df.loc[interval_points]"
   ]
  },
  {
   "cell_type": "code",
   "execution_count": 13,
   "metadata": {},
   "outputs": [
    {
     "data": {
      "text/plain": [
       "-52.31065"
      ]
     },
     "execution_count": 13,
     "metadata": {},
     "output_type": "execute_result"
    }
   ],
   "source": [
    "df.lon.max()"
   ]
  },
  {
   "cell_type": "code",
   "execution_count": 14,
   "metadata": {},
   "outputs": [
    {
     "data": {
      "text/plain": [
       "-63.99714"
      ]
     },
     "execution_count": 14,
     "metadata": {},
     "output_type": "execute_result"
    }
   ],
   "source": [
    "df.lon.min()"
   ]
  },
  {
   "cell_type": "code",
   "execution_count": 15,
   "metadata": {},
   "outputs": [
    {
     "data": {
      "text/plain": [
       "4.59536"
      ]
     },
     "execution_count": 15,
     "metadata": {},
     "output_type": "execute_result"
    }
   ],
   "source": [
    "df.lat.max()"
   ]
  },
  {
   "cell_type": "code",
   "execution_count": 17,
   "metadata": {},
   "outputs": [
    {
     "data": {
      "text/plain": [
       "-33.74696"
      ]
     },
     "execution_count": 17,
     "metadata": {},
     "output_type": "execute_result"
    }
   ],
   "source": [
    "df.lat.min()"
   ]
  },
  {
   "cell_type": "code",
   "execution_count": null,
   "metadata": {},
   "outputs": [],
   "source": []
  }
 ],
 "metadata": {
  "kernelspec": {
   "display_name": "Python 3",
   "language": "python",
   "name": "python3"
  },
  "language_info": {
   "codemirror_mode": {
    "name": "ipython",
    "version": 3
   },
   "file_extension": ".py",
   "mimetype": "text/x-python",
   "name": "python",
   "nbconvert_exporter": "python",
   "pygments_lexer": "ipython3",
   "version": "3.9.1"
  }
 },
 "nbformat": 4,
 "nbformat_minor": 4
}
