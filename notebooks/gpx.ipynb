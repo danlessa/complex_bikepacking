{
 "cells": [
  {
   "cell_type": "code",
   "execution_count": 1,
   "metadata": {},
   "outputs": [],
   "source": [
    "# Dependences\n",
    "import requests as req\n",
    "import gpxpy\n",
    "from geopy.distance import geodesic\n",
    "import pandas as pd\n",
    "import numpy as np\n",
    "from scipy.optimize import brentq\n",
    "import plotly.express as px\n"
   ]
  },
  {
   "cell_type": "code",
   "execution_count": 2,
   "metadata": {},
   "outputs": [],
   "source": [
    "# Parameters\n",
    "route_path = '../data/route.gpx'\n",
    "TOTAL_WEIGHT = 70\n",
    "CRR = 0.007\n",
    "CDA = 0.32\n",
    "INEFFICIENCY = 1.03\n",
    "RHO = 1.226\n",
    "\n",
    "# Pacing strategies\n",
    "STRATEGIES = {'uphill': {'filter': lambda x: x >= 0.5,\n",
    "                         'power': 125},\n",
    "              'flat': {'filter': lambda x: (x < 0.5) & (x > -0.5),\n",
    "                       'power': 100},\n",
    "              'downhill': {'filter': lambda x: x <= -0.5,\n",
    "                           'power': 25}}"
   ]
  },
  {
   "cell_type": "code",
   "execution_count": 3,
   "metadata": {},
   "outputs": [],
   "source": [
    "def power_gravitational(speed, grad, weight=TOTAL_WEIGHT):\n",
    "    \"\"\"\n",
    "    Power for winning gravity\n",
    "    \"\"\"\n",
    "    return 9.8067 * weight * speed * np.sin(np.arctan(grad))\n",
    "\n",
    "def power_wind(speed, cda=CDA, rho=RHO):\n",
    "    \"\"\"\n",
    "    Power for winning wind\n",
    "    \"\"\"\n",
    "    return 0.5 * rho * cda * (speed ** 3)\n",
    "\n",
    "def power_rolling(speed, grad, crr=CRR, weight=TOTAL_WEIGHT):\n",
    "    \"\"\"\n",
    "    Power for winning tyres\n",
    "    \"\"\"\n",
    "    return 9.8067 * crr * speed * np.cos(np.arctan(grad)) * weight\n",
    "\n",
    "def power(speed, grad):\n",
    "    \"\"\"\n",
    "    Overral power\n",
    "    \"\"\"\n",
    "    return (power_gravitational(speed, grad)\n",
    "            + power_wind(speed)\n",
    "            + power_rolling(speed, grad)) * INEFFICIENCY\n",
    "\n",
    "def speed(_power, grad):\n",
    "    \"\"\"\n",
    "    Speed given an power and a grad.\n",
    "    \"\"\"\n",
    "    optimize_function = lambda speed, grad: _power - power(speed, grad)\n",
    "    return brentq(optimize_function, -0.01, 100.0, grad)"
   ]
  },
  {
   "cell_type": "code",
   "execution_count": 4,
   "metadata": {},
   "outputs": [
    {
     "output_type": "error",
     "ename": "FileNotFoundError",
     "evalue": "[Errno 2] No such file or directory: '../data/route.gpx'",
     "traceback": [
      "\u001b[0;31m---------------------------------------------------------------------------\u001b[0m",
      "\u001b[0;31mFileNotFoundError\u001b[0m                         Traceback (most recent call last)",
      "\u001b[0;32m<ipython-input-4-e2465479820e>\u001b[0m in \u001b[0;36m<module>\u001b[0;34m\u001b[0m\n\u001b[0;32m----> 1\u001b[0;31m \u001b[0;32mwith\u001b[0m \u001b[0mopen\u001b[0m\u001b[0;34m(\u001b[0m\u001b[0mroute_path\u001b[0m\u001b[0;34m,\u001b[0m \u001b[0;34m'r'\u001b[0m\u001b[0;34m)\u001b[0m \u001b[0;32mas\u001b[0m \u001b[0mfid\u001b[0m\u001b[0;34m:\u001b[0m\u001b[0;34m\u001b[0m\u001b[0;34m\u001b[0m\u001b[0m\n\u001b[0m\u001b[1;32m      2\u001b[0m     \u001b[0mgpx\u001b[0m \u001b[0;34m=\u001b[0m \u001b[0mgpxpy\u001b[0m\u001b[0;34m.\u001b[0m\u001b[0mparse\u001b[0m\u001b[0;34m(\u001b[0m\u001b[0mfid\u001b[0m\u001b[0;34m.\u001b[0m\u001b[0mread\u001b[0m\u001b[0;34m(\u001b[0m\u001b[0;34m)\u001b[0m\u001b[0;34m)\u001b[0m\u001b[0;34m\u001b[0m\u001b[0;34m\u001b[0m\u001b[0m\n\u001b[1;32m      3\u001b[0m \u001b[0;34m\u001b[0m\u001b[0m\n\u001b[1;32m      4\u001b[0m df = pd.DataFrame([(p.longitude, p.latitude, p.elevation) for p in route_points],\n\u001b[1;32m      5\u001b[0m                   columns=['lon', 'lat', 'ele'])\n",
      "\u001b[0;31mFileNotFoundError\u001b[0m: [Errno 2] No such file or directory: '../data/route.gpx'"
     ]
    }
   ],
   "source": [
    "with open(route_path, 'r') as fid:\n",
    "    gpx = gpxpy.parse(fid.read())\n",
    "\n",
    "df = pd.DataFrame([(p.longitude, p.latitude, p.elevation) for p in route_points],\n",
    "                  columns=['lon', 'lat', 'ele'])"
   ]
  },
  {
   "cell_type": "code",
   "execution_count": null,
   "metadata": {},
   "outputs": [],
   "source": []
  },
  {
   "cell_type": "code",
   "execution_count": null,
   "metadata": {},
   "outputs": [],
   "source": [
    "df = pd.DataFrame([(p.longitude, p.latitude, p.elevation) for p in route_points],\n",
    "                  columns=['lon', 'lat', 'ele'])"
   ]
  },
  {
   "cell_type": "code",
   "execution_count": null,
   "metadata": {},
   "outputs": [],
   "source": [
    "N = 500\n",
    "delta = df.lon.diff().abs() + df.lat.diff().abs()\n",
    "delta *= 50e3\n",
    "grad = df.ele.diff() / delta\n",
    "grad = grad.rolling(N).mean()"
   ]
  },
  {
   "cell_type": "code",
   "execution_count": null,
   "metadata": {},
   "outputs": [],
   "source": [
    "fig = px.scatter_mapbox(lat=df.lat,\n",
    "                     lon=df.lon,\n",
    "                     color=grad)\n",
    "fig.update_layout(mapbox_style=\"stamen-terrain\", \n",
    "                  mapbox_center_lat = df.lat.median(),\n",
    "                  mapbox_zoom=2,\n",
    "                  margin={\"r\":0,\"t\":0,\"l\":0,\"b\":0})\n",
    "fig.show()"
   ]
  },
  {
   "cell_type": "code",
   "execution_count": null,
   "metadata": {},
   "outputs": [],
   "source": []
  }
 ],
 "metadata": {
  "kernelspec": {
   "display_name": "Python 3",
   "language": "python",
   "name": "python3"
  },
  "language_info": {
   "codemirror_mode": {
    "name": "ipython",
    "version": 3
   },
   "file_extension": ".py",
   "mimetype": "text/x-python",
   "name": "python",
   "nbconvert_exporter": "python",
   "pygments_lexer": "ipython3",
   "version": "3.8.2-final"
  }
 },
 "nbformat": 4,
 "nbformat_minor": 4
}